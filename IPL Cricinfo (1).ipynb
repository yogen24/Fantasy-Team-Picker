{
 "cells": [
  {
   "cell_type": "markdown",
   "metadata": {},
   "source": [
    "Hi. In this project, I'm going to analyze IPL Data to find out the most valuable players for fantasy cricket competitions. For this, I have used the points system as specified by the popular fantasy platform 'Dream 11'.\n",
    "\n",
    "Note: The points calculated aren't exactly correct as I have not included points from Run Outs, and Economy+Strike Rates for particular innings, as that would require innings-by-innings data. The latter part is negligible anyways and the run-out points would create at most a difference of 1-2 points per match for good fielders. All major criterias have been taken into account so overall you can consider this a pretty accurate analysis."
   ]
  },
  {
   "cell_type": "markdown",
   "metadata": {},
   "source": [
    "Let's Begin by doing the necessary imports:"
   ]
  },
  {
   "cell_type": "code",
   "execution_count": 1,
   "metadata": {},
   "outputs": [],
   "source": [
    "import numpy as np\n",
    "import pandas as pd\n",
    "import matplotlib.pyplot as plt\n",
    "import seaborn as sns\n",
    "%matplotlib inline\n",
    "pd.options.mode.chained_assignment = None"
   ]
  },
  {
   "cell_type": "markdown",
   "metadata": {},
   "source": [
    "Our first step is to collect the data. I have gathered the data from ESPN Cricinfo's pages for aggregated batting and bowling stats of players of different teams. First, the batting stats:"
   ]
  },
  {
   "cell_type": "code",
   "execution_count": 2,
   "metadata": {},
   "outputs": [],
   "source": [
    "cskbat=pd.read_html('https://stats.espncricinfo.com/ci/engine/records/averages/batting.html?id=117;team=4343;type=trophy')[0]\n",
    "dcbat=pd.read_html('https://stats.espncricinfo.com/ci/engine/records/averages/batting.html?id=117;team=4347;type=trophy')[0]\n",
    "ddbat=pd.read_html('https://stats.espncricinfo.com/ci/engine/records/averages/batting.html?id=117;team=4344;type=trophy')[0]\n",
    "glbat=pd.read_html('https://stats.espncricinfo.com/ci/engine/records/averages/batting.html?id=117;team=5845;type=trophy')[0]\n",
    "kxipbat=pd.read_html('https://stats.espncricinfo.com/ci/engine/records/averages/batting.html?id=117;team=4342;type=trophy')[0]\n",
    "ktkbat=pd.read_html('https://stats.espncricinfo.com/ci/engine/records/averages/batting.html?id=117;team=4788;type=trophy')[0]\n",
    "kkrbat=pd.read_html('https://stats.espncricinfo.com/ci/engine/records/averages/batting.html?id=117;team=4341;type=trophy')[0]\n",
    "mibat=pd.read_html('https://stats.espncricinfo.com/ci/engine/records/averages/batting.html?id=117;team=4346;type=trophy')[0]\n",
    "pwibat=pd.read_html('https://stats.espncricinfo.com/ci/engine/records/averages/batting.html?id=117;team=4787;type=trophy')[0]\n",
    "rrbat=pd.read_html('https://stats.espncricinfo.com/ci/engine/records/averages/batting.html?id=117;team=4345;type=trophy')[0]\n",
    "rpsbat=pd.read_html('https://stats.espncricinfo.com/ci/engine/records/averages/batting.html?id=117;team=5843;type=trophy')[0]\n",
    "rcbbat=pd.read_html('https://stats.espncricinfo.com/ci/engine/records/averages/batting.html?id=117;team=4340;type=trophy')[0]\n",
    "srhbat=pd.read_html('https://stats.espncricinfo.com/ci/engine/records/averages/batting.html?id=117;team=5143;type=trophy')[0]"
   ]
  },
  {
   "cell_type": "markdown",
   "metadata": {},
   "source": [
    "Similarly, the bowling stats:"
   ]
  },
  {
   "cell_type": "code",
   "execution_count": 3,
   "metadata": {},
   "outputs": [],
   "source": [
    "cskbowl=pd.read_html('https://stats.espncricinfo.com/ci/engine/records/averages/bowling.html?id=117;team=4343;type=trophy')[0]\n",
    "dcbowl=pd.read_html('https://stats.espncricinfo.com/ci/engine/records/averages/bowling.html?id=117;team=4347;type=trophy')[0]\n",
    "ddbowl=pd.read_html('https://stats.espncricinfo.com/ci/engine/records/averages/bowling.html?id=117;team=4344;type=trophy')[0]\n",
    "glbowl=pd.read_html('https://stats.espncricinfo.com/ci/engine/records/averages/bowling.html?id=117;team=5845;type=trophy')[0]\n",
    "kxipbowl=pd.read_html('https://stats.espncricinfo.com/ci/engine/records/averages/bowling.html?id=117;team=4342;type=trophy')[0]\n",
    "ktkbowl=pd.read_html('https://stats.espncricinfo.com/ci/engine/records/averages/bowling.html?id=117;team=4788;type=trophy')[0]\n",
    "kkrbowl=pd.read_html('https://stats.espncricinfo.com/ci/engine/records/averages/bowling.html?id=117;team=4341;type=trophy')[0]\n",
    "mibowl=pd.read_html('https://stats.espncricinfo.com/ci/engine/records/averages/bowling.html?id=117;team=4346;type=trophy')[0]\n",
    "pwibowl=pd.read_html('https://stats.espncricinfo.com/ci/engine/records/averages/bowling.html?id=117;team=4787;type=trophy')[0]\n",
    "rrbowl=pd.read_html('https://stats.espncricinfo.com/ci/engine/records/averages/bowling.html?id=117;team=4345;type=trophy')[0]\n",
    "rpsbowl=pd.read_html('https://stats.espncricinfo.com/ci/engine/records/averages/bowling.html?id=117;team=5843;type=trophy')[0]\n",
    "rcbbowl=pd.read_html('https://stats.espncricinfo.com/ci/engine/records/averages/bowling.html?id=117;team=4340;type=trophy')[0]\n",
    "srhbowl=pd.read_html('https://stats.espncricinfo.com/ci/engine/records/averages/bowling.html?id=117;team=5143;type=trophy')[0]"
   ]
  },
  {
   "cell_type": "markdown",
   "metadata": {},
   "source": [
    "Here's an example of what the raw data looks like:"
   ]
  },
  {
   "cell_type": "code",
   "execution_count": 4,
   "metadata": {},
   "outputs": [
    {
     "data": {
      "text/html": [
       "<div>\n",
       "<style scoped>\n",
       "    .dataframe tbody tr th:only-of-type {\n",
       "        vertical-align: middle;\n",
       "    }\n",
       "\n",
       "    .dataframe tbody tr th {\n",
       "        vertical-align: top;\n",
       "    }\n",
       "\n",
       "    .dataframe thead th {\n",
       "        text-align: right;\n",
       "    }\n",
       "</style>\n",
       "<table border=\"1\" class=\"dataframe\">\n",
       "  <thead>\n",
       "    <tr style=\"text-align: right;\">\n",
       "      <th></th>\n",
       "      <th>Player</th>\n",
       "      <th>Span</th>\n",
       "      <th>Mat</th>\n",
       "      <th>Inns</th>\n",
       "      <th>Overs</th>\n",
       "      <th>Mdns</th>\n",
       "      <th>Runs</th>\n",
       "      <th>Wkts</th>\n",
       "      <th>BBI</th>\n",
       "      <th>Ave</th>\n",
       "      <th>Econ</th>\n",
       "      <th>SR</th>\n",
       "      <th>4</th>\n",
       "      <th>5</th>\n",
       "      <th>Ct</th>\n",
       "      <th>St</th>\n",
       "    </tr>\n",
       "  </thead>\n",
       "  <tbody>\n",
       "    <tr>\n",
       "      <th>0</th>\n",
       "      <td>P Amarnath</td>\n",
       "      <td>2008-2008</td>\n",
       "      <td>6</td>\n",
       "      <td>6</td>\n",
       "      <td>22.0</td>\n",
       "      <td>0</td>\n",
       "      <td>236</td>\n",
       "      <td>7</td>\n",
       "      <td>2/29</td>\n",
       "      <td>33.71</td>\n",
       "      <td>10.72</td>\n",
       "      <td>18.8</td>\n",
       "      <td>0</td>\n",
       "      <td>0</td>\n",
       "      <td>2</td>\n",
       "      <td>0</td>\n",
       "    </tr>\n",
       "    <tr>\n",
       "      <th>1</th>\n",
       "      <td>S Anirudha</td>\n",
       "      <td>2008-2013</td>\n",
       "      <td>19</td>\n",
       "      <td>-</td>\n",
       "      <td>-</td>\n",
       "      <td>-</td>\n",
       "      <td>-</td>\n",
       "      <td>-</td>\n",
       "      <td>-</td>\n",
       "      <td>-</td>\n",
       "      <td>-</td>\n",
       "      <td>-</td>\n",
       "      <td>-</td>\n",
       "      <td>-</td>\n",
       "      <td>11</td>\n",
       "      <td>0</td>\n",
       "    </tr>\n",
       "    <tr>\n",
       "      <th>2</th>\n",
       "      <td>KB Arun Karthik</td>\n",
       "      <td>2010-2010</td>\n",
       "      <td>1</td>\n",
       "      <td>-</td>\n",
       "      <td>-</td>\n",
       "      <td>-</td>\n",
       "      <td>-</td>\n",
       "      <td>-</td>\n",
       "      <td>-</td>\n",
       "      <td>-</td>\n",
       "      <td>-</td>\n",
       "      <td>-</td>\n",
       "      <td>-</td>\n",
       "      <td>-</td>\n",
       "      <td>0</td>\n",
       "      <td>0</td>\n",
       "    </tr>\n",
       "    <tr>\n",
       "      <th>3</th>\n",
       "      <td>R Ashwin</td>\n",
       "      <td>2009-2015</td>\n",
       "      <td>97</td>\n",
       "      <td>94</td>\n",
       "      <td>337.4</td>\n",
       "      <td>4</td>\n",
       "      <td>2180</td>\n",
       "      <td>90</td>\n",
       "      <td>3/16</td>\n",
       "      <td>24.22</td>\n",
       "      <td>6.45</td>\n",
       "      <td>22.5</td>\n",
       "      <td>0</td>\n",
       "      <td>0</td>\n",
       "      <td>20</td>\n",
       "      <td>0</td>\n",
       "    </tr>\n",
       "    <tr>\n",
       "      <th>4</th>\n",
       "      <td>KM Asif</td>\n",
       "      <td>2018-2018</td>\n",
       "      <td>2</td>\n",
       "      <td>2</td>\n",
       "      <td>6.0</td>\n",
       "      <td>0</td>\n",
       "      <td>75</td>\n",
       "      <td>3</td>\n",
       "      <td>2/43</td>\n",
       "      <td>25.00</td>\n",
       "      <td>12.50</td>\n",
       "      <td>12.0</td>\n",
       "      <td>0</td>\n",
       "      <td>0</td>\n",
       "      <td>0</td>\n",
       "      <td>0</td>\n",
       "    </tr>\n",
       "    <tr>\n",
       "      <th>...</th>\n",
       "      <td>...</td>\n",
       "      <td>...</td>\n",
       "      <td>...</td>\n",
       "      <td>...</td>\n",
       "      <td>...</td>\n",
       "      <td>...</td>\n",
       "      <td>...</td>\n",
       "      <td>...</td>\n",
       "      <td>...</td>\n",
       "      <td>...</td>\n",
       "      <td>...</td>\n",
       "      <td>...</td>\n",
       "      <td>...</td>\n",
       "      <td>...</td>\n",
       "      <td>...</td>\n",
       "      <td>...</td>\n",
       "    </tr>\n",
       "    <tr>\n",
       "      <th>71</th>\n",
       "      <td>S Vidyut</td>\n",
       "      <td>2008-2008</td>\n",
       "      <td>9</td>\n",
       "      <td>1</td>\n",
       "      <td>2.0</td>\n",
       "      <td>0</td>\n",
       "      <td>22</td>\n",
       "      <td>1</td>\n",
       "      <td>1/22</td>\n",
       "      <td>22.00</td>\n",
       "      <td>11.00</td>\n",
       "      <td>12.0</td>\n",
       "      <td>0</td>\n",
       "      <td>0</td>\n",
       "      <td>1</td>\n",
       "      <td>0</td>\n",
       "    </tr>\n",
       "    <tr>\n",
       "      <th>72</th>\n",
       "      <td>M Vijay</td>\n",
       "      <td>2009-2020</td>\n",
       "      <td>68</td>\n",
       "      <td>-</td>\n",
       "      <td>-</td>\n",
       "      <td>-</td>\n",
       "      <td>-</td>\n",
       "      <td>-</td>\n",
       "      <td>-</td>\n",
       "      <td>-</td>\n",
       "      <td>-</td>\n",
       "      <td>-</td>\n",
       "      <td>-</td>\n",
       "      <td>-</td>\n",
       "      <td>33</td>\n",
       "      <td>0</td>\n",
       "    </tr>\n",
       "    <tr>\n",
       "      <th>73</th>\n",
       "      <td>SR Watson</td>\n",
       "      <td>2018-2020</td>\n",
       "      <td>33</td>\n",
       "      <td>11</td>\n",
       "      <td>28.0</td>\n",
       "      <td>0</td>\n",
       "      <td>251</td>\n",
       "      <td>6</td>\n",
       "      <td>2/29</td>\n",
       "      <td>41.83</td>\n",
       "      <td>8.96</td>\n",
       "      <td>28.0</td>\n",
       "      <td>0</td>\n",
       "      <td>0</td>\n",
       "      <td>10</td>\n",
       "      <td>0</td>\n",
       "    </tr>\n",
       "    <tr>\n",
       "      <th>74</th>\n",
       "      <td>DJ Willey</td>\n",
       "      <td>2018-2018</td>\n",
       "      <td>3</td>\n",
       "      <td>3</td>\n",
       "      <td>10.0</td>\n",
       "      <td>0</td>\n",
       "      <td>95</td>\n",
       "      <td>2</td>\n",
       "      <td>1/24</td>\n",
       "      <td>47.50</td>\n",
       "      <td>9.50</td>\n",
       "      <td>30.0</td>\n",
       "      <td>0</td>\n",
       "      <td>0</td>\n",
       "      <td>2</td>\n",
       "      <td>0</td>\n",
       "    </tr>\n",
       "    <tr>\n",
       "      <th>75</th>\n",
       "      <td>MA Wood</td>\n",
       "      <td>2018-2018</td>\n",
       "      <td>1</td>\n",
       "      <td>1</td>\n",
       "      <td>4.0</td>\n",
       "      <td>0</td>\n",
       "      <td>49</td>\n",
       "      <td>0</td>\n",
       "      <td>-</td>\n",
       "      <td>-</td>\n",
       "      <td>12.25</td>\n",
       "      <td>-</td>\n",
       "      <td>0</td>\n",
       "      <td>0</td>\n",
       "      <td>1</td>\n",
       "      <td>0</td>\n",
       "    </tr>\n",
       "  </tbody>\n",
       "</table>\n",
       "<p>76 rows × 16 columns</p>\n",
       "</div>"
      ],
      "text/plain": [
       "             Player       Span  Mat Inns  Overs Mdns  Runs Wkts   BBI    Ave  \\\n",
       "0        P Amarnath  2008-2008    6    6   22.0    0   236    7  2/29  33.71   \n",
       "1        S Anirudha  2008-2013   19    -      -    -     -    -     -      -   \n",
       "2   KB Arun Karthik  2010-2010    1    -      -    -     -    -     -      -   \n",
       "3          R Ashwin  2009-2015   97   94  337.4    4  2180   90  3/16  24.22   \n",
       "4           KM Asif  2018-2018    2    2    6.0    0    75    3  2/43  25.00   \n",
       "..              ...        ...  ...  ...    ...  ...   ...  ...   ...    ...   \n",
       "71         S Vidyut  2008-2008    9    1    2.0    0    22    1  1/22  22.00   \n",
       "72          M Vijay  2009-2020   68    -      -    -     -    -     -      -   \n",
       "73        SR Watson  2018-2020   33   11   28.0    0   251    6  2/29  41.83   \n",
       "74        DJ Willey  2018-2018    3    3   10.0    0    95    2  1/24  47.50   \n",
       "75          MA Wood  2018-2018    1    1    4.0    0    49    0     -      -   \n",
       "\n",
       "     Econ    SR  4  5  Ct  St  \n",
       "0   10.72  18.8  0  0   2   0  \n",
       "1       -     -  -  -  11   0  \n",
       "2       -     -  -  -   0   0  \n",
       "3    6.45  22.5  0  0  20   0  \n",
       "4   12.50  12.0  0  0   0   0  \n",
       "..    ...   ... .. ..  ..  ..  \n",
       "71  11.00  12.0  0  0   1   0  \n",
       "72      -     -  -  -  33   0  \n",
       "73   8.96  28.0  0  0  10   0  \n",
       "74   9.50  30.0  0  0   2   0  \n",
       "75  12.25     -  0  0   1   0  \n",
       "\n",
       "[76 rows x 16 columns]"
      ]
     },
     "execution_count": 4,
     "metadata": {},
     "output_type": "execute_result"
    }
   ],
   "source": [
    "cskbowl"
   ]
  },
  {
   "cell_type": "markdown",
   "metadata": {},
   "source": [
    "Now that we have our team-wise data separated, lets combine it together into 2 separate dataframes for batting and bowling stats:  dfbat and dfbowl"
   ]
  },
  {
   "cell_type": "code",
   "execution_count": 5,
   "metadata": {},
   "outputs": [],
   "source": [
    "dfbat=pd.concat([cskbat,dcbat,ddbat,glbat,kxipbat,ktkbat,kkrbat,mibat,pwibat,rrbat,rpsbat,rcbbat,srhbat])\n",
    "dfbowl=pd.concat([cskbowl,dcbowl,ddbowl,glbowl,kxipbowl,ktkbowl,kkrbowl,mibowl,pwibowl,rrbowl,rpsbowl,rcbbowl,srhbowl])"
   ]
  },
  {
   "cell_type": "markdown",
   "metadata": {},
   "source": [
    "Now we need to clean the data to obtain it in the desired form: This includes Replacing null values with 0, dropping a few columns from both dataframes and converting string to float values."
   ]
  },
  {
   "cell_type": "code",
   "execution_count": 6,
   "metadata": {},
   "outputs": [],
   "source": [
    "dfbat=dfbat.replace('-',0)\n",
    "dfbowl=dfbowl.replace('-',0)\n",
    "dfbat=dfbat.drop(['Span','HS','Ave','SR'],axis=1)\n",
    "dfbowl=dfbowl.drop(['Span','BBI','Ave','Econ','SR'],axis=1)\n",
    "dfbat=dfbat.apply(pd.to_numeric,errors='ignore')\n",
    "dfbowl=dfbowl.apply(pd.to_numeric,errors='ignore')"
   ]
  },
  {
   "cell_type": "markdown",
   "metadata": {},
   "source": [
    "Once we have our combined data, we group it by player. This is necessary as many players have represented multiple franchises in their career, hence there are multiple rows of data for them, which needs to be grouped together as a single row. Then, we create columns like Strike Rate(SR),Average(Ave) based off our understanding of cricket and sort the dataframe."
   ]
  },
  {
   "cell_type": "code",
   "execution_count": 7,
   "metadata": {},
   "outputs": [],
   "source": [
    "dfbat=dfbat.groupby('Player').sum()\n",
    "dfbat['SR']=dfbat['Runs']*100/dfbat['BF']\n",
    "dfbat['Ave']=dfbat['Runs']/(dfbat['Inns']-dfbat['NO'])\n",
    "dfbat=dfbat.sort_values(by='Runs',ascending=False)"
   ]
  },
  {
   "cell_type": "markdown",
   "metadata": {},
   "source": [
    "We do a similar process for the bowling dataframe."
   ]
  },
  {
   "cell_type": "code",
   "execution_count": 8,
   "metadata": {},
   "outputs": [],
   "source": [
    "dfbowl=dfbowl.groupby('Player').sum()\n",
    "dfbowl['Bowl Ave']=dfbowl['Runs']/dfbowl['Wkts']\n",
    "dfbowl['Econ']=dfbowl['Runs']/dfbowl['Overs']\n",
    "dfbowl['Bowl SR']=dfbowl['Overs']*6/dfbowl['Wkts']\n",
    "dfbowl=dfbowl.sort_values(by='Wkts',ascending=False)"
   ]
  },
  {
   "cell_type": "markdown",
   "metadata": {},
   "source": [
    "This is what our combined batting dataframe looks like:"
   ]
  },
  {
   "cell_type": "code",
   "execution_count": 9,
   "metadata": {},
   "outputs": [
    {
     "data": {
      "text/html": [
       "<div>\n",
       "<style scoped>\n",
       "    .dataframe tbody tr th:only-of-type {\n",
       "        vertical-align: middle;\n",
       "    }\n",
       "\n",
       "    .dataframe tbody tr th {\n",
       "        vertical-align: top;\n",
       "    }\n",
       "\n",
       "    .dataframe thead th {\n",
       "        text-align: right;\n",
       "    }\n",
       "</style>\n",
       "<table border=\"1\" class=\"dataframe\">\n",
       "  <thead>\n",
       "    <tr style=\"text-align: right;\">\n",
       "      <th></th>\n",
       "      <th>Mat</th>\n",
       "      <th>Inns</th>\n",
       "      <th>NO</th>\n",
       "      <th>Runs</th>\n",
       "      <th>BF</th>\n",
       "      <th>100</th>\n",
       "      <th>50</th>\n",
       "      <th>0</th>\n",
       "      <th>4s</th>\n",
       "      <th>6s</th>\n",
       "      <th>SR</th>\n",
       "      <th>Ave</th>\n",
       "    </tr>\n",
       "    <tr>\n",
       "      <th>Player</th>\n",
       "      <th></th>\n",
       "      <th></th>\n",
       "      <th></th>\n",
       "      <th></th>\n",
       "      <th></th>\n",
       "      <th></th>\n",
       "      <th></th>\n",
       "      <th></th>\n",
       "      <th></th>\n",
       "      <th></th>\n",
       "      <th></th>\n",
       "      <th></th>\n",
       "    </tr>\n",
       "  </thead>\n",
       "  <tbody>\n",
       "    <tr>\n",
       "      <th>V Kohli</th>\n",
       "      <td>177</td>\n",
       "      <td>169</td>\n",
       "      <td>26</td>\n",
       "      <td>5412</td>\n",
       "      <td>4112</td>\n",
       "      <td>5</td>\n",
       "      <td>36</td>\n",
       "      <td>6</td>\n",
       "      <td>480</td>\n",
       "      <td>190</td>\n",
       "      <td>131.614786</td>\n",
       "      <td>37.846154</td>\n",
       "    </tr>\n",
       "    <tr>\n",
       "      <th>SK Raina</th>\n",
       "      <td>193</td>\n",
       "      <td>189</td>\n",
       "      <td>28</td>\n",
       "      <td>5368</td>\n",
       "      <td>3915</td>\n",
       "      <td>1</td>\n",
       "      <td>38</td>\n",
       "      <td>8</td>\n",
       "      <td>493</td>\n",
       "      <td>194</td>\n",
       "      <td>137.113665</td>\n",
       "      <td>33.341615</td>\n",
       "    </tr>\n",
       "    <tr>\n",
       "      <th>RG Sharma</th>\n",
       "      <td>189</td>\n",
       "      <td>184</td>\n",
       "      <td>28</td>\n",
       "      <td>4910</td>\n",
       "      <td>3754</td>\n",
       "      <td>1</td>\n",
       "      <td>36</td>\n",
       "      <td>12</td>\n",
       "      <td>433</td>\n",
       "      <td>194</td>\n",
       "      <td>130.793820</td>\n",
       "      <td>31.474359</td>\n",
       "    </tr>\n",
       "    <tr>\n",
       "      <th>DA Warner</th>\n",
       "      <td>126</td>\n",
       "      <td>126</td>\n",
       "      <td>17</td>\n",
       "      <td>4706</td>\n",
       "      <td>3305</td>\n",
       "      <td>4</td>\n",
       "      <td>44</td>\n",
       "      <td>7</td>\n",
       "      <td>458</td>\n",
       "      <td>181</td>\n",
       "      <td>142.390318</td>\n",
       "      <td>43.174312</td>\n",
       "    </tr>\n",
       "    <tr>\n",
       "      <th>S Dhawan</th>\n",
       "      <td>160</td>\n",
       "      <td>159</td>\n",
       "      <td>21</td>\n",
       "      <td>4579</td>\n",
       "      <td>3671</td>\n",
       "      <td>0</td>\n",
       "      <td>37</td>\n",
       "      <td>7</td>\n",
       "      <td>524</td>\n",
       "      <td>96</td>\n",
       "      <td>124.734405</td>\n",
       "      <td>33.181159</td>\n",
       "    </tr>\n",
       "    <tr>\n",
       "      <th>...</th>\n",
       "      <td>...</td>\n",
       "      <td>...</td>\n",
       "      <td>...</td>\n",
       "      <td>...</td>\n",
       "      <td>...</td>\n",
       "      <td>...</td>\n",
       "      <td>...</td>\n",
       "      <td>...</td>\n",
       "      <td>...</td>\n",
       "      <td>...</td>\n",
       "      <td>...</td>\n",
       "      <td>...</td>\n",
       "    </tr>\n",
       "    <tr>\n",
       "      <th>T Natarajan</th>\n",
       "      <td>6</td>\n",
       "      <td>0</td>\n",
       "      <td>0</td>\n",
       "      <td>0</td>\n",
       "      <td>0</td>\n",
       "      <td>0</td>\n",
       "      <td>0</td>\n",
       "      <td>0</td>\n",
       "      <td>0</td>\n",
       "      <td>0</td>\n",
       "      <td>NaN</td>\n",
       "      <td>NaN</td>\n",
       "    </tr>\n",
       "    <tr>\n",
       "      <th>T Mishra</th>\n",
       "      <td>1</td>\n",
       "      <td>0</td>\n",
       "      <td>0</td>\n",
       "      <td>0</td>\n",
       "      <td>0</td>\n",
       "      <td>0</td>\n",
       "      <td>0</td>\n",
       "      <td>0</td>\n",
       "      <td>0</td>\n",
       "      <td>0</td>\n",
       "      <td>NaN</td>\n",
       "      <td>NaN</td>\n",
       "    </tr>\n",
       "    <tr>\n",
       "      <th>S Midhun</th>\n",
       "      <td>1</td>\n",
       "      <td>0</td>\n",
       "      <td>0</td>\n",
       "      <td>0</td>\n",
       "      <td>0</td>\n",
       "      <td>0</td>\n",
       "      <td>0</td>\n",
       "      <td>0</td>\n",
       "      <td>0</td>\n",
       "      <td>0</td>\n",
       "      <td>NaN</td>\n",
       "      <td>NaN</td>\n",
       "    </tr>\n",
       "    <tr>\n",
       "      <th>Ravi Bishnoi</th>\n",
       "      <td>1</td>\n",
       "      <td>0</td>\n",
       "      <td>0</td>\n",
       "      <td>0</td>\n",
       "      <td>0</td>\n",
       "      <td>0</td>\n",
       "      <td>0</td>\n",
       "      <td>0</td>\n",
       "      <td>0</td>\n",
       "      <td>0</td>\n",
       "      <td>NaN</td>\n",
       "      <td>NaN</td>\n",
       "    </tr>\n",
       "    <tr>\n",
       "      <th>BW Hilfenhaus</th>\n",
       "      <td>17</td>\n",
       "      <td>1</td>\n",
       "      <td>1</td>\n",
       "      <td>0</td>\n",
       "      <td>0</td>\n",
       "      <td>0</td>\n",
       "      <td>0</td>\n",
       "      <td>0</td>\n",
       "      <td>0</td>\n",
       "      <td>0</td>\n",
       "      <td>NaN</td>\n",
       "      <td>NaN</td>\n",
       "    </tr>\n",
       "  </tbody>\n",
       "</table>\n",
       "<p>564 rows × 12 columns</p>\n",
       "</div>"
      ],
      "text/plain": [
       "               Mat  Inns  NO  Runs    BF  100  50   0   4s   6s          SR  \\\n",
       "Player                                                                        \n",
       "V Kohli        177   169  26  5412  4112    5  36   6  480  190  131.614786   \n",
       "SK Raina       193   189  28  5368  3915    1  38   8  493  194  137.113665   \n",
       "RG Sharma      189   184  28  4910  3754    1  36  12  433  194  130.793820   \n",
       "DA Warner      126   126  17  4706  3305    4  44   7  458  181  142.390318   \n",
       "S Dhawan       160   159  21  4579  3671    0  37   7  524   96  124.734405   \n",
       "...            ...   ...  ..   ...   ...  ...  ..  ..  ...  ...         ...   \n",
       "T Natarajan      6     0   0     0     0    0   0   0    0    0         NaN   \n",
       "T Mishra         1     0   0     0     0    0   0   0    0    0         NaN   \n",
       "S Midhun         1     0   0     0     0    0   0   0    0    0         NaN   \n",
       "Ravi Bishnoi     1     0   0     0     0    0   0   0    0    0         NaN   \n",
       "BW Hilfenhaus   17     1   1     0     0    0   0   0    0    0         NaN   \n",
       "\n",
       "                     Ave  \n",
       "Player                    \n",
       "V Kohli        37.846154  \n",
       "SK Raina       33.341615  \n",
       "RG Sharma      31.474359  \n",
       "DA Warner      43.174312  \n",
       "S Dhawan       33.181159  \n",
       "...                  ...  \n",
       "T Natarajan          NaN  \n",
       "T Mishra             NaN  \n",
       "S Midhun             NaN  \n",
       "Ravi Bishnoi         NaN  \n",
       "BW Hilfenhaus        NaN  \n",
       "\n",
       "[564 rows x 12 columns]"
      ]
     },
     "execution_count": 9,
     "metadata": {},
     "output_type": "execute_result"
    }
   ],
   "source": [
    "dfbat"
   ]
  },
  {
   "cell_type": "markdown",
   "metadata": {},
   "source": [
    "The next step is to apply the points criteria to calculate different types of points earned during a match. This is classified into new columns in our dataframe based on Dream11 points system, eg, 1 point for each run, 2 bonus points for each six etc."
   ]
  },
  {
   "cell_type": "code",
   "execution_count": null,
   "metadata": {},
   "outputs": [],
   "source": [
    "dfbat['Runs Points']=dfbat['Runs']\n",
    "dfbat['Boundary Bonus']=dfbat['4s']\n",
    "dfbat['Six Bonus']=2*dfbat['6s']\n",
    "dfbat['Half Century Bonus']=8*dfbat['50']\n",
    "dfbat['Century Bonus']=16*dfbat['100']\n",
    "dfbat['Dismissal For A Duck']=-2*dfbat['0']"
   ]
  },
  {
   "cell_type": "markdown",
   "metadata": {},
   "source": [
    "Similarly we apply the criteria to the bowling dataframe, which contains columns for both bowling and fielding stats,eg, 25 points for each wicket, 8 points for each catch etc."
   ]
  },
  {
   "cell_type": "code",
   "execution_count": null,
   "metadata": {},
   "outputs": [],
   "source": [
    "dfbowl['Wickets Points']=25*dfbowl['Wkts']\n",
    "dfbowl['4 Wicket Haul Bonus']=8*dfbowl['4']\n",
    "dfbowl['5 Wicket Haul Bonus']=16*dfbowl['5']\n",
    "dfbowl['Maiden Over Bonus']=8*dfbowl['Mdns']\n",
    "dfbowl['Catch Points']=8*dfbowl['Ct']\n",
    "dfbowl['Stumping Points']=12*dfbowl['St']"
   ]
  },
  {
   "cell_type": "markdown",
   "metadata": {},
   "source": [
    "The next step is to combine both our batting and bowling dataframes into one master dataframe and add another criteria: 4 points for being in Starting 11. On combining, we then drop all columns not required for the analysis and retain only the points and matches columns"
   ]
  },
  {
   "cell_type": "code",
   "execution_count": null,
   "metadata": {},
   "outputs": [],
   "source": [
    "dfbat=dfbat.reset_index()\n",
    "dfbowl=dfbowl.reset_index()\n",
    "dfbowl_tojoin=dfbowl.drop(['Mat','Inns','Runs'],axis=1)\n",
    "df=pd.merge(dfbat,dfbowl_tojoin,on='Player')\n",
    "df['Starting 11 Points']=4*df['Mat']\n",
    "dfpoints=df.drop(['Inns','NO','Runs','BF','100','50','0','4s','6s','SR','Ave',\n",
    "                  'Overs','Mdns','Wkts','4','5','Ct','St','Bowl Ave','Econ','Bowl SR'],axis=1)"
   ]
  },
  {
   "cell_type": "markdown",
   "metadata": {},
   "source": [
    "Now we add all the different points in different categories as Total Points and find the most important metric for the analysis, Total Points Per Match (stored as Total PPM)"
   ]
  },
  {
   "cell_type": "code",
   "execution_count": null,
   "metadata": {},
   "outputs": [],
   "source": [
    "dfpoints['Total Points']=dfpoints.drop('Mat',axis=1).sum(axis=1)\n",
    "dfpoints['Total PPM']=(dfpoints['Total Points']/dfpoints['Mat']).round(2)"
   ]
  },
  {
   "cell_type": "markdown",
   "metadata": {},
   "source": [
    "Now I apply a criteria to show only those players who have played a minimum of 30 matches. This roughly corresponds to the length of 2 full seasons, which is a good enough sample size to judge players' performances. The final dataframe is stored as dfbest."
   ]
  },
  {
   "cell_type": "code",
   "execution_count": null,
   "metadata": {},
   "outputs": [],
   "source": [
    "dffilter=dfpoints[dfpoints['Mat']>=1]\n",
    "dfbest=dffilter.sort_values(by='Total PPM',ascending=False)\n",
    "dfbest=dfbest.set_index('Player')"
   ]
  },
  {
   "cell_type": "markdown",
   "metadata": {},
   "source": [
    "Finally, we have our results. The Fantasy points earned per match by 171 players, the most valuable 25 of which are shown below:"
   ]
  },
  {
   "cell_type": "code",
   "execution_count": null,
   "metadata": {},
   "outputs": [],
   "source": [
    "dfbest"
   ]
  },
  {
   "cell_type": "markdown",
   "metadata": {},
   "source": [
    "Wow! Some of the usual suspects but few unexpected names right up there too. \n",
    "\n",
    "INSIGHTS: 1)All rounders like Watson and Russell leading the charts, with Kallis(considered more of a test match player) a               surprise entry in the top 5.\n",
    "\n",
    "2) Popular captaincy choices in fantasy leagues like Kohli, De Villiers surprisingly fetch relatively lower points,             and players like Rohit,Dhoni,Malinga and Narine don't even make it to the top 25!"
   ]
  },
  {
   "cell_type": "markdown",
   "metadata": {},
   "source": [
    "Now that we're at it, let's also take a quick look at the 10 least valuable players. Unsurprisingly, most of them are no longer getting picked and have had short careers"
   ]
  },
  {
   "cell_type": "code",
   "execution_count": null,
   "metadata": {},
   "outputs": [],
   "source": [
    "dfbest.tail(10).sort_values('Total PPM')"
   ]
  },
  {
   "cell_type": "markdown",
   "metadata": {},
   "source": [
    "Let's visualize the distribution of the Total Points per match data:"
   ]
  },
  {
   "cell_type": "code",
   "execution_count": null,
   "metadata": {},
   "outputs": [],
   "source": [
    "sns.distplot(dfbest['Total PPM'],color='black',bins=15)\n",
    "print('Mean is {}, Standard Deviation is {}'.format(dfbest['Total PPM'].mean(), dfbest['Total PPM'].std()))"
   ]
  },
  {
   "cell_type": "markdown",
   "metadata": {},
   "source": [
    "The distribution shows points ranging from about 16 to 57 with most of the players having points between the 30-40 range"
   ]
  },
  {
   "cell_type": "markdown",
   "metadata": {},
   "source": [
    "Now let's dive a bit deeper into our analysis and classify the total points per match into Batting, Bowling and Fielding points per match (Stored as Batting PPM, Bowling PPM and Fielding PPM respectively): "
   ]
  },
  {
   "cell_type": "code",
   "execution_count": null,
   "metadata": {},
   "outputs": [],
   "source": [
    "dfbest['Batting PPM']=(dfbest[['Runs Points','Boundary Bonus','Six Bonus','Half Century Bonus',\n",
    "                                            'Century Bonus','Dismissal For A Duck']].sum(axis=1)/dfbest['Mat']).round(2)\n",
    "dfbest['Bowling PPM']=(dfbest[['Wickets Points','4 Wicket Haul Bonus','5 Wicket Haul Bonus',\n",
    "                                            'Maiden Over Bonus']].sum(axis=1)/dfbest['Mat']).round(2)\n",
    "dfbest['Fielding PPM']=(dfbest[['Catch Points','Stumping Points']].sum(axis=1)/dfbest['Mat']).round(2)"
   ]
  },
  {
   "cell_type": "markdown",
   "metadata": {},
   "source": [
    "Lets look at the top players by batting, bowling and fielding points per match:"
   ]
  },
  {
   "cell_type": "code",
   "execution_count": null,
   "metadata": {},
   "outputs": [],
   "source": [
    "dfbest['Batting PPM'].sort_values(ascending=False).head(10)"
   ]
  },
  {
   "cell_type": "code",
   "execution_count": null,
   "metadata": {},
   "outputs": [],
   "source": [
    "dfbest['Bowling PPM'].sort_values(ascending=False).head(10)"
   ]
  },
  {
   "cell_type": "code",
   "execution_count": null,
   "metadata": {},
   "outputs": [],
   "source": [
    "dfbest['Fielding PPM'].sort_values(ascending=False).head(10)"
   ]
  },
  {
   "cell_type": "markdown",
   "metadata": {},
   "source": [
    "With the data classified into the respective sections, its time to visualize the points distribution for the top,say,35 players"
   ]
  },
  {
   "cell_type": "code",
   "execution_count": null,
   "metadata": {},
   "outputs": [],
   "source": [
    "df1=dfbest[['Batting PPM','Bowling PPM','Fielding PPM']].iloc[0:35]\n",
    "df1.plot.bar(stacked=True,figsize=(16,6))\n",
    "plt.xticks(rotation=45)\n",
    "plt.ylabel('Total Points Per Match',fontsize=12)\n",
    "plt.xlabel('Player',fontsize=13)\n",
    "plt.title('Most Valuable Players by Points Type',fontsize=14)\n",
    "plt.tight_layout()"
   ]
  },
  {
   "cell_type": "markdown",
   "metadata": {},
   "source": [
    "INSIGHTS: 1) The chart shows that its the batsmen that dominate the most at the top. We only see few proper bowlers in the top 30 and then only from positions 30-35 do we see some proper bowlers getting in.\n",
    "\n",
    "2) Warner actually surpasses Gayle as an opening batsman (and as a fielder) but Gayle pips him on overall points based on the few(18) wickets he's taken as a part timer.\n",
    "\n",
    "3) For players like Pant, De Kock and Gilchrist, Fielding points constitute a decent amount of total points, which is because as keepers, they get more catches and stumping oppurtunities.\n",
    "\n",
    "4) Krunal Pandya and Stokes are two such all-rounders, who earn almost identical points in both the batting and bowling categories."
   ]
  },
  {
   "cell_type": "markdown",
   "metadata": {},
   "source": [
    "Lets take a look at the best All Rounders by plotting Total Bowling Points vs Total Batting Points per match. I've defined an All Rounder to be someone who fetches atleast 10 points per match in both disciplines. 22 players fit this definition, which are shown below:"
   ]
  },
  {
   "cell_type": "code",
   "execution_count": null,
   "metadata": {},
   "outputs": [],
   "source": [
    "dfallround=dfbest[(dfbest['Batting PPM']>10)&(dfbest['Bowling PPM']>10)]\n",
    "\n",
    "plt.figure(figsize=(16,8))\n",
    "plt.scatter(x='Batting PPM',y='Bowling PPM',data=dfallround,c='Total PPM',cmap='viridis_r',s=dfallround['Total PPM']*2)\n",
    "plt.title('Top All Rounders',fontsize=15)\n",
    "plt.xlabel('Batting Points Per Match',fontsize=13)\n",
    "plt.ylabel('Bowling Points Per Match',fontsize=12)\n",
    "x=np.arange(10,40,5)\n",
    "y=np.arange(10,32.5,2.5)\n",
    "plt.xticks(ticks=x,labels=x)\n",
    "plt.yticks(ticks=y,labels=y)\n",
    "plt.grid(lw=0.3)\n",
    "for index, row in dfallround.reset_index().iterrows():\n",
    "    plt.annotate(row['Player'], xy = (row['Batting PPM'], row['Bowling PPM']),\n",
    "                 xytext = (row['Batting PPM']+0.1, row['Bowling PPM']+0.2), fontsize=12)\n",
    "plt.tight_layout()"
   ]
  },
  {
   "cell_type": "markdown",
   "metadata": {},
   "source": [
    "INSIGHTS: This graph clearly distinguishes bowling all rounders(upper left) from batting ones(lower right) with proper all rounders lying close to the y=x diagonal line (batting points almost same as bowling points)"
   ]
  },
  {
   "cell_type": "markdown",
   "metadata": {},
   "source": [
    "For the final visualization, we're going to plot all 171 players from the dfbest dataframe and look for the players who have performed most consistently over a long career. For this, I've set a criteria of at least 100 career matches while maintaining at least 45 Total Points Per Match:"
   ]
  },
  {
   "cell_type": "code",
   "execution_count": null,
   "metadata": {},
   "outputs": [],
   "source": [
    "dffilter2=dfbest[(dfbest['Mat']>=100)&(dfbest['Total PPM']>=45)]\n",
    "\n",
    "plt.figure(figsize=(13,7),dpi=70)\n",
    "plt.scatter(x='Mat',y='Total PPM',data=dfbest,c='Total PPM',cmap='viridis_r')\n",
    "plt.title('Most Consistent Players',fontsize=15)\n",
    "plt.xlabel('No. of Matches',fontsize=13)\n",
    "plt.ylabel('Total Points Per Match',fontsize=12)\n",
    "x=np.arange(30,220,10)\n",
    "y=np.arange(10,65,5)\n",
    "plt.xticks(ticks=x,labels=x)\n",
    "plt.yticks(ticks=y,labels=y)\n",
    "plt.grid(lw=0.3)\n",
    "plt.axvline(x=100, color='r',ls='--',lw=1.5)\n",
    "plt.axhline(y=45, color='b',ls='--',lw=1.5)\n",
    "for index, row in dffilter2.reset_index().iterrows():\n",
    "    plt.annotate(row['Player'], xy = (row['Mat'], row['Total PPM']),\n",
    "                 xytext = (row['Mat']+0.8, row['Total PPM']+0.4), fontsize=12)\n",
    "plt.tight_layout()"
   ]
  },
  {
   "cell_type": "markdown",
   "metadata": {},
   "source": [
    "INSIGHTS: 1) Watson, Gayle, Warner, Bravo, Kohli and Raina are the most overall consistent players.\n",
    "\n",
    "2) Raina, despite having played the most matches(193), has maintained Total Points Per Match>45. The graph above shows his impact and longevity together. No wonder he is referred to as \"Mr. IPL\"\n",
    "\n",
    "3) Kallis and De Villiers miss out narrowly (98 matches and 44.91 PPM respectively)"
   ]
  },
  {
   "cell_type": "markdown",
   "metadata": {},
   "source": [
    "That's all for this analysis. I hope this was insightful and would help you make smarter, data driven decisions next time you select your fantasy teams. \n",
    "\n",
    "THANK YOU!"
   ]
  },
  {
   "cell_type": "code",
   "execution_count": null,
   "metadata": {},
   "outputs": [],
   "source": []
  }
 ],
 "metadata": {
  "kernelspec": {
   "display_name": "Python 3",
   "language": "python",
   "name": "python3"
  },
  "language_info": {
   "codemirror_mode": {
    "name": "ipython",
    "version": 3
   },
   "file_extension": ".py",
   "mimetype": "text/x-python",
   "name": "python",
   "nbconvert_exporter": "python",
   "pygments_lexer": "ipython3",
   "version": "3.7.6"
  }
 },
 "nbformat": 4,
 "nbformat_minor": 4
}
